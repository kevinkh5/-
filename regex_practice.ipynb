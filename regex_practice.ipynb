{
 "cells": [
  {
   "cell_type": "markdown",
   "id": "3912605f-7e77-4aa4-a07e-213d28df79f0",
   "metadata": {},
   "source": [
    "# 정규표현식 축약표현"
   ]
  },
  {
   "cell_type": "markdown",
   "id": "a4fe3916-aebe-4846-99d4-57f20f2674c1",
   "metadata": {
    "tags": []
   },
   "source": [
    "## \\s 란?\n",
    "white space(스페이스, 탭, 엔터 등등) 문자인 것 찾을때 사용하고,[\\t\\n\\r\\f\\v]의 축약표현임"
   ]
  },
  {
   "cell_type": "markdown",
   "id": "12fd42b9-8102-4ca5-822c-213b0d02f60c",
   "metadata": {},
   "source": [
    "- 참고\n",
    "\n",
    "참고\n",
    "여기서 \\r은 Carriage Return으로 개행문자, \\n도 개행문자다. 두 차이는 \\n은 단순히 다음 줄로 넘어가는 것을 말한다. 그냥 엔터같은 느낌이다. 하지만 \\r은 앞에 공백이 있을 경우 그 공백이 없어지고 뒤에 문자열이 온다. 즉, \\r은 커서를 제일 앞으로 보낸 후 문자열을 입력한다.\n",
    "\n",
    "\\v는 vertical tab(수직 탭)으로, 프린터의 수직 이동을 빠르게 하기 위해 사용되었다고 함. 지금은 딱히 사용하지 않음. 파이참 에디터에서 출력해보면 띄어쓰기보다 살짝 작게 띄어쓰기하는 화이트스페이스 임을 알 수 있다.\n",
    "\n",
    "\\f는 form feed인데, 파이참에서 출력해보면 \\v와 비슷함. 하지만 터미널 횐경에서 출력해보면\n",
    "\n",
    "```text\n",
    "“Hello\\fWorld”\n",
    "\n",
    "출력:\n",
    "Hello\n",
    "     World\n",
    "```\n",
    "\n",
    "이와 같이 출력됨. 즉, \\f 바로 다음부터는 다음줄 바로 아래로 옮긴후 뒤 문자를 출력함. \\v도 마찬가지임"
   ]
  },
  {
   "cell_type": "markdown",
   "id": "4e13cc5b-4ba3-4d30-bbed-d039de81da0f",
   "metadata": {},
   "source": [
    "## \\S(대문자) 란?\n",
    "[^ \\t\\n\\r\\f\\v]의 축약표현임, 즉 white space가 아닌 문자를 찾을 때 사용. 예를들어 알파벳이나 숫자 같은 문자 찾을때\n",
    "\n",
    "- 주의해야할 점은잘보면 ^뒤에 space(공간)가 있음. 그냥 단순히 띄어쓰기가 아니라 그 space도 포함해서 ^(not)하겠다는 것임.\n",
    "- [^ \\t\\n\\r\\f\\v] (O)\n",
    "- [^\\t\\n\\r\\f\\v] (X)"
   ]
  },
  {
   "cell_type": "code",
   "execution_count": 285,
   "id": "b47db9c3-ae72-428f-bc9b-55a64969e81f",
   "metadata": {},
   "outputs": [
    {
     "name": "stdout",
     "output_type": "stream",
     "text": [
      "['a', '1', 'b', '2', 'c']\n",
      "['a', '1', 'b', '2', 'c']\n"
     ]
    }
   ],
   "source": [
    "import re\n",
    "\n",
    "pattern = r'\\S'\n",
    "pattern = re.compile(pattern)\n",
    "text = 'a1b2 c  '\n",
    "print(pattern.findall(text))\n",
    "\n",
    "pattern = r'[^ \\t\\n\\r\\f\\v]'\n",
    "pattern = re.compile(pattern)\n",
    "text = 'a1b2 c  '\n",
    "print(pattern.findall(text))"
   ]
  },
  {
   "cell_type": "markdown",
   "id": "5eef9621-55d3-49fb-a3ac-6bbb906cd077",
   "metadata": {},
   "source": [
    "## \\b 란?\n",
    "\\b는 단어 경계(word boundary)로, 단어와 비단어 문자 간의 경계를 의미"
   ]
  },
  {
   "cell_type": "code",
   "execution_count": 26,
   "id": "b7031b24-ea6f-4592-ab8b-2a6861e907f7",
   "metadata": {},
   "outputs": [
    {
     "name": "stdout",
     "output_type": "stream",
     "text": [
      "\\bcar\n",
      "['car']\n",
      "[]\n",
      "['car']\n",
      "\n",
      "\\bcar\\b\n",
      "['car']\n",
      "[]\n",
      "[]\n"
     ]
    }
   ],
   "source": [
    "# \\bcar <- 이렇게 쓰면 car(~어쩌구~)에서 car를 뽑아낼 수 있음\n",
    "print(r\"\\bcar\")\n",
    "print(re.findall(r'\\bcar', 'car'))\n",
    "print(re.findall(r'\\bcar', '1car'))\n",
    "print(re.findall(r'\\bcar', 'car1'))\n",
    "\n",
    "print()\n",
    "print(r\"\\bcar\\b\")\n",
    "# \\bcar\\b <- 이렇게 쓰면 딱 car\n",
    "print(re.findall(r'\\bcar\\b', 'car'))\n",
    "print(re.findall(r'\\bcar\\b', '1car'))\n",
    "print(re.findall(r'\\bcar\\b', 'car1'))"
   ]
  },
  {
   "cell_type": "markdown",
   "id": "1237aca2-06bd-4c2f-9f2c-9fca6eaa0386",
   "metadata": {},
   "source": [
    "## \\d 란?\n",
    "\n",
    "\\d는 숫자(digit)로, [0-9]를 축약표현한 것이다. 만약 \\d{2} 이렇게 쓰면 연속된 두개의 숫자를 찾겠다는 것을 의미하고, 만약 \\d{3,4}이렇게 쓰면 최소 3번이상, 최대 4번까지 반복되는 숫자를 찾겠다는 의미다."
   ]
  },
  {
   "cell_type": "markdown",
   "id": "a3e66da7-6114-41d2-ace4-8e17c206437e",
   "metadata": {},
   "source": [
    "## \\D 란?\n",
    "[^0-9]의 축약표현"
   ]
  },
  {
   "cell_type": "markdown",
   "id": "8c0356ad-8728-4af0-89bb-210f11e2dfd4",
   "metadata": {},
   "source": [
    "## 정규표현식에서 괄호 \n",
    "- [] 이거는 문자집합\n",
    "\n",
    "- () 이거는 그룹"
   ]
  },
  {
   "cell_type": "markdown",
   "id": "70750e11-2602-44b3-8b58-85ab773285a8",
   "metadata": {
    "tags": []
   },
   "source": [
    "# 문자반복관련 정규표현식"
   ]
  },
  {
   "cell_type": "markdown",
   "id": "77e37730-9443-4135-816a-f5b8b8bda829",
   "metadata": {
    "tags": []
   },
   "source": [
    "## *란?\n",
    "*는 바로 앞에 문자패턴이 0회 이상 반복되는 것을 의미"
   ]
  },
  {
   "cell_type": "code",
   "execution_count": 41,
   "id": "3badfe34-9066-43a0-9e54-0d6bb5b1eefd",
   "metadata": {},
   "outputs": [
    {
     "name": "stdout",
     "output_type": "stream",
     "text": [
      "['b', 'b', 'b', 'ba', 'baa']\n"
     ]
    }
   ],
   "source": [
    "#사용예시\n",
    "import re\n",
    "\n",
    "text = \"a가 있고, b도 있고, bb도 있고, ba도 있고 baa도 있다.\"\n",
    "pattern = r\"b[a]*\"\n",
    "print(re.findall(pattern,text))\n",
    "\n",
    "# 정규표현식을 b[a]* 이렇게 작성하면\n",
    "# b가 나오고 그 바로뒤에 a가 안나올 수도 있고, 나올수도있는 모든 경우를 매치시킨다."
   ]
  },
  {
   "cell_type": "markdown",
   "id": "1002ccd0-9beb-4f7e-a3b8-d6878e695e73",
   "metadata": {},
   "source": [
    "## .(점)이란?\n",
    ".(점)은 바로 앞에 문자패턴이 딱 1회만 있는 것을 의미"
   ]
  },
  {
   "cell_type": "code",
   "execution_count": 143,
   "id": "e224b951-8013-4d21-853b-395c797a1d90",
   "metadata": {},
   "outputs": [
    {
     "name": "stdout",
     "output_type": "stream",
     "text": [
      "<re.Match object; span=(0, 3), match='ABC'>\n",
      "<re.Match object; span=(0, 3), match='A1C'>\n",
      "None\n",
      "None\n"
     ]
    }
   ],
   "source": [
    "import re\n",
    "\n",
    "## 'A.C'에서 .은 한개의 문자를 뜻한다 따라서 A와 C사이에 문자가 0개 또는 2개 이상인 경우는 매치하지않는다.\n",
    "pattern = re.compile('A.C') #패턴 객체 생성\n",
    "print(pattern.search('ABC'))\n",
    "print(pattern.search('A1C'))\n",
    "print(pattern.search('A11C'))\n",
    "print(pattern.search('AC'))"
   ]
  },
  {
   "cell_type": "markdown",
   "id": "81a86f86-93a2-491b-887d-28ca186ffdbf",
   "metadata": {},
   "source": [
    "## ?(물음표)란?\n",
    "앞에 문자가 없거나 1번만 표시되는 패턴찾을 때 사용(있거나 없거나)"
   ]
  },
  {
   "cell_type": "markdown",
   "id": "38ca2742-9a5b-49fa-92d1-5efdef9f056d",
   "metadata": {},
   "source": [
    "## +(플러스)란?\n",
    "앞에 문자가 1회 이상 반복되는 패턴찾을 때 사용"
   ]
  },
  {
   "cell_type": "markdown",
   "id": "1c69bb3c-6869-45e4-8356-1e09c64d6832",
   "metadata": {},
   "source": [
    "## n번 반복에 대한 옵션은 어떻게 할까?\n",
    "\n",
    "{n} 또는 {m,n} 사용하면 된다.\n",
    "\n",
    "- {n} 이것은 찾는 문자 패턴이 n번만 반복한다는 의미\n",
    "- {m,n} 이것은 찾는 문자 패턴이 m 이상 n 이하 반복한다는 의미"
   ]
  },
  {
   "cell_type": "markdown",
   "id": "641fc998-d817-450a-a2cd-e98752d6a13e",
   "metadata": {},
   "source": [
    "# 정규표현식관련 파이썬 라이브러리"
   ]
  },
  {
   "cell_type": "markdown",
   "id": "55287913-0fc7-4d1c-8178-84db7bddd864",
   "metadata": {
    "tags": []
   },
   "source": [
    "## match VS search"
   ]
  },
  {
   "cell_type": "code",
   "execution_count": 164,
   "id": "f1f6c5f3-010d-4679-9fda-a0a20091201e",
   "metadata": {},
   "outputs": [
    {
     "name": "stdout",
     "output_type": "stream",
     "text": [
      "None\n",
      "<re.Match object; span=(1, 5), match='ello'>\n"
     ]
    }
   ],
   "source": [
    "import re\n",
    "pattern = re.compile(r'[a-z]+')\n",
    "\n",
    "print(pattern.match('Hello'))\n",
    "print(pattern.search('Hello'))\n",
    "# match는 처음부터 매치가 안되면 문자열 패턴을 찾지 않고,\n",
    "# search는 처음에 매치 안되도 두번째 문자부터 패턴을 다시 찾아낸다."
   ]
  },
  {
   "cell_type": "markdown",
   "id": "be375799-81ee-4830-b976-7412bfb856bf",
   "metadata": {},
   "source": [
    "## split"
   ]
  },
  {
   "cell_type": "code",
   "execution_count": 169,
   "id": "f99467be-a039-4c74-bf1b-3e6c7a6068a9",
   "metadata": {},
   "outputs": [
    {
     "name": "stdout",
     "output_type": "stream",
     "text": [
      "['안녕', '하십니까']\n"
     ]
    }
   ],
   "source": [
    "import re\n",
    "pattern = re.compile(r':')\n",
    "text = '안녕:하십니까'\n",
    "print(pattern.split(text))"
   ]
  },
  {
   "cell_type": "markdown",
   "id": "bb217e7a-7d73-4d8e-8153-b33bf6281254",
   "metadata": {
    "tags": []
   },
   "source": [
    "# 정규표현식 활용"
   ]
  },
  {
   "cell_type": "markdown",
   "id": "0a4fab1f-02bf-4700-a64b-f492ea075c49",
   "metadata": {
    "tags": []
   },
   "source": [
    "## 정규표현식 활용1 - 핸드폰 번호 매치시키기"
   ]
  },
  {
   "cell_type": "code",
   "execution_count": 36,
   "id": "4bd5e77c-d328-407d-99dd-d83c67cc50a0",
   "metadata": {},
   "outputs": [
    {
     "name": "stdout",
     "output_type": "stream",
     "text": [
      "['010-123-4567', '010-1234-5678']\n"
     ]
    }
   ],
   "source": [
    "text = \"제 예전 핸드폰 번호는 010-123-4567 이었고, 지금 핸드폰 번호는 010-1234-5678 입니다.\"\n",
    "pattern = r\"\\b010-\\d{3,4}-\\d{4}\\b\"\n",
    "# 꼭 r(raw string)을 붙여야 한다. 이스케이프 문자 해석하지 않고 그대로 출력하기 위함\n",
    "print(re.findall(pattern,text))"
   ]
  },
  {
   "cell_type": "markdown",
   "id": "6b42c218-b1fb-4223-8b3c-2d513f2ca4cd",
   "metadata": {},
   "source": [
    "## 정규표현식 활용2 - 주민번호 매치시키기"
   ]
  },
  {
   "cell_type": "code",
   "execution_count": 153,
   "id": "286ae1d3-812b-4805-9da7-ddd4a3f34d79",
   "metadata": {},
   "outputs": [
    {
     "name": "stdout",
     "output_type": "stream",
     "text": [
      "[('990101-1999999', '01', '01'), ('980230-1234567', '02', '30'), ('9703301234567', '03', '30')]\n"
     ]
    }
   ],
   "source": [
    "text ='''\n",
    "이것은 유효한 주민번호일까? 990101-1999999 이건 정상 992102-9887777 이건 이상한 주민번호.\n",
    "980230-1234567 이것도 정상, 9703301234567 이건 하이픈이 없지만 그래도 정상 주민번호.\n",
    "'''\n",
    "pattern = r\"(\\d{2}([0]\\d|[1][0-2])([0][1-9]|[1-2]\\d|[3][0-1])[-]*[1-4]\\d{6})\"\n",
    "print(re.findall(pattern,text))\n",
    "\n",
    "# 정상적인 주민번호만 추출하는 것을 확인할 수 있다.\n",
    "# re.findall을 사용하면 괄호 친것에 대해서 매치되는것을 튜플에 담아서 출력하는 것 같다."
   ]
  },
  {
   "cell_type": "code",
   "execution_count": 256,
   "id": "4c38c894-23ca-4170-805c-b181753799d8",
   "metadata": {},
   "outputs": [
    {
     "name": "stdout",
     "output_type": "stream",
     "text": [
      "[('990101-1999999', '01', '01'), ('980230-1234567', '02', '30'), ('9703301234567', '03', '30')]\n"
     ]
    }
   ],
   "source": [
    "text ='''\n",
    "이것은 유효한 주민번호일까? 990101-1999999 이건 정상 992102-9887777 이건 이상한 주민번호.\n",
    "980230-1234567 이것도 정상, 9703301234567 이건 하이픈이 없지만 그래도 정상 주민번호.\n",
    "'''\n",
    "pattern = r\"(\\d{2}([0]\\d|[1][0-2])([0][1-9]|[1-2]\\d|[3][0-1])[-]*[1-4]\\d{6})\"\n",
    "pattern = re.compile(pattern)\n",
    "print(pattern.findall(text))\n",
    "\n",
    "# 정상적인 주민번호만 추출하는 것을 확인할 수 있다.\n",
    "# re.findall을 사용하면 괄호 친것에 대해서 매치되는것을 튜플에 담아서 출력하는 것 같다."
   ]
  },
  {
   "cell_type": "markdown",
   "id": "93dc3e97-4491-4b27-82bd-86f45ccb6715",
   "metadata": {},
   "source": [
    "## 아래 정규표현식을 해석해보자\n",
    "- (\\d{2}([0]\\d|[1][0-2])([0][1-9]|[1-2]\\d|[3][0-1])[-]*[1-4]\\d{6}) \n",
    "\n",
    "### \\d{2}\n",
    "이 부분은 주민번호 앞자리 생년월일중 연도에 해당한다. 숫자 두자리를 아무거나 올 수 있다는 것을 의미한다.\n",
    "\n",
    "### ([0]\\d|[1][0-2])\n",
    "이 부분은 주민번호 앞자리 생년월일중 월에 해당한다. 앞에 0 하나가 오면 뒤에 아무 숫자 상관없이 온다. 또는 앞에 1 하나가 오면 뒤에 0~2숫자 하나가 온다.(이렇게 만든 이유는 13월, 14월과 같이 이상한 생년월일 가진 주민번호가  매치되는 것을 방지하기 위해)\n",
    "\n",
    "### ([0][1-9]|[1-2]\\d|[3][0-1])\n",
    "이 부분은 주민번호 앞자리 생년월일중 일에 해당한다. 앞에 0이 오면 뒤에 아무숫자 한개 상관없이 온다. 또는 앞에 1 ~ 2사이의 수 하나오면 뒤에 아무숫자 상관없이 하나 올 수 있고, 앞에 3이 하나오면 뒤에 숫자는 0~1사이의 수 하나가 온다.(이렇게 만든 이유는 32일, 33일 같은 이상한 생년월일 가진 주민번호가 매치되는 것을 방지하기 위해)\n",
    "\n",
    "### [-]*\n",
    "하이픈이 있거나 없거나 다 매치 시키겠다는 의미(하이픈 0개 이상이면 다 매치). 위 출력에서도 보면 알 수 있듯 9703301234567 이렇게 하이픈 없이 작성된 주민번호도 매치되었다.\n",
    "\n",
    "### [1-4]\\d{6}\n",
    "이 부분은 주민번호 뒷자리 부분으로, 주민번호 뒷자리 맨 앞이 첫자리가 1~4이면서, 그 뒤로 나머지 6자리가 아무숫자가 오면 매치 시키겠다는 의미다.\n"
   ]
  },
  {
   "cell_type": "markdown",
   "id": "52336880-e89b-42ca-b6c4-5b423ba88da9",
   "metadata": {},
   "source": [
    "## 정규표현식 활용3 - 뒤에 대괄호와 그 안에 숫자가 들어간 형태 지우기"
   ]
  },
  {
   "cell_type": "code",
   "execution_count": 218,
   "id": "ba3cc0cc-f6be-4e7a-add4-98447e9dee02",
   "metadata": {},
   "outputs": [
    {
     "name": "stdout",
     "output_type": "stream",
     "text": [
      "(정규표현식) - REGEX를 연습해보자 \n"
     ]
    }
   ],
   "source": [
    "import re\n",
    "\n",
    "text = \"(정규표현식) - REGEX를 연습해보자 [2]\"\n",
    "pattern = '\\[[0-9]+\\]'\n",
    "print(re.sub(pattern, '', text))\n",
    "\n",
    "#여기서 역슬래시(\\)는 이스케이프 문자로 \\[ 이렇게 쓰면 [ 이 괄호 자체를 나타냄\n",
    "#[0-9]+는 하나 이상의 수를 의미"
   ]
  },
  {
   "cell_type": "markdown",
   "id": "e2494fa7-1ced-4739-b474-9fe0ba1dc0a8",
   "metadata": {},
   "source": [
    "## 정규표현식 활용4 - 주민번호 뒷자리 가리기"
   ]
  },
  {
   "cell_type": "code",
   "execution_count": 219,
   "id": "e2826b69-a1bc-4d29-9d71-d868519754f0",
   "metadata": {},
   "outputs": [
    {
     "name": "stdout",
     "output_type": "stream",
     "text": [
      "990101-*******\n"
     ]
    }
   ],
   "source": [
    "text = \"990101-1234567\"\n",
    "pattern = r'-[0-9]{7}'\n",
    "print(re.sub(pattern,'-*******',text))"
   ]
  },
  {
   "cell_type": "markdown",
   "id": "4a603214-c49e-4840-812a-ab51246db8bb",
   "metadata": {},
   "source": [
    "### 주민번호 뒷자리 가리는 또 다른 방법"
   ]
  },
  {
   "cell_type": "code",
   "execution_count": 239,
   "id": "f3c46a2a-ba9e-4982-af07-e57a8d4223c7",
   "metadata": {},
   "outputs": [
    {
     "name": "stdout",
     "output_type": "stream",
     "text": [
      "<re.Match object; span=(0, 14), match='123456-1234567'>\n",
      "123456-1******\n",
      "<re.Match object; span=(0, 14), match='123456-1234567'>\n",
      "123456-******\n"
     ]
    }
   ],
   "source": [
    "text = \"123456-1234567\"\n",
    "pattern = re.compile(r\"(\\d{6}-\\d{1})\\d{6}\") # 성별이 남자인것만\n",
    "print(pattern.match(text))\n",
    "print(pattern.sub(\"\\g<1>******\", text)) \n",
    "# \\g<1>은 위 re.compile부분에서 ()괄호로 묶었던 첫번째 그룹을 뜻한다\n",
    "\n",
    "pattern = re.compile(r\"(\\d{6}-)\\d{7}\") # 성별이 남녀모두\n",
    "print(pattern.match(text))\n",
    "print(pattern.sub(\"\\g<1>******\", text)) \n"
   ]
  },
  {
   "cell_type": "markdown",
   "id": "3bb47a1e-da21-4cb3-bbfe-45bdb67e4cc7",
   "metadata": {},
   "source": [
    "## 정규표현식 활용5 - 핸드폰 번호 뒷자리 가리기"
   ]
  },
  {
   "cell_type": "code",
   "execution_count": 250,
   "id": "adf320dc-b930-401b-8d70-afe930fcbc2c",
   "metadata": {},
   "outputs": [
    {
     "name": "stdout",
     "output_type": "stream",
     "text": [
      "010-1234-****\n"
     ]
    }
   ],
   "source": [
    "text = \"010-1234-5678\"\n",
    "pattern = r\"\\d{4}$\"  # $는 정규 표현식에서 문자열의 끝을 나타내는 메타 문자,(참고:문자열의 앞을 나타내는 메타 문자는 ^)\n",
    "print(re.sub(pattern, \"****\", text))\n",
    "# 이 방법은 별로 좋지 않음 그 이유는 핸드폰번호가 꼭 맨 끝 문자열에 온다는 보장이 없으므로"
   ]
  },
  {
   "cell_type": "markdown",
   "id": "729c2203-e7de-4667-9e96-d7fea65d6b7b",
   "metadata": {},
   "source": [
    "### 핸드폰 번호 뒷자리 가리는 또 다른 방법 (그룹이용\\g<1>)"
   ]
  },
  {
   "cell_type": "code",
   "execution_count": 241,
   "id": "a9993d52-ccd1-4e91-a452-06c06c2def40",
   "metadata": {},
   "outputs": [
    {
     "name": "stdout",
     "output_type": "stream",
     "text": [
      "010-1234-****\n"
     ]
    }
   ],
   "source": [
    "text = \"010-1234-5678\"\n",
    "pattern = r\"(\\d{3}-\\d{4}-)\\d{4}\" \n",
    "print(re.sub(pattern, \"\\g<1>****\", text))"
   ]
  },
  {
   "cell_type": "markdown",
   "id": "d140fa25-c46c-49fd-aa78-d126e91b7ead",
   "metadata": {},
   "source": [
    "### 핸드폰 가운데 4자리도 가려보기"
   ]
  },
  {
   "cell_type": "code",
   "execution_count": 245,
   "id": "8ac6a77b-4088-4da7-83e9-8d6dd7db3027",
   "metadata": {},
   "outputs": [
    {
     "name": "stdout",
     "output_type": "stream",
     "text": [
      "010-****-5678\n"
     ]
    }
   ],
   "source": [
    "text = \"010-1234-5678\"\n",
    "pattern = r\"(\\d{3}-)\\d{4}(-\\d{4})\"  # $는 정규 표현식에서 문자열의 끝을 나타내는 메타 문자\n",
    "print(re.sub(pattern, \"\\g<1>****\\g<2>\", text))"
   ]
  },
  {
   "cell_type": "markdown",
   "id": "e068c43d-4091-4a7d-a2f6-f57430c80352",
   "metadata": {
    "tags": []
   },
   "source": [
    "# 정규표현식 띄어쓰기에 따른 차이"
   ]
  },
  {
   "cell_type": "code",
   "execution_count": 280,
   "id": "943b1eb7-63a3-48e0-a4c9-cfd53a33823a",
   "metadata": {},
   "outputs": [
    {
     "name": "stdout",
     "output_type": "stream",
     "text": [
      "['Hello']\n",
      "['Hello ']\n",
      "['Hello', 'world']\n",
      "['Hello world']\n"
     ]
    }
   ],
   "source": [
    "matches = re.findall(r'([^ \\t\\n\\r\\f\\v]+) ', \"Hello world\")\n",
    "print(matches)  # 출력: ['Hello']\n",
    "\n",
    "matches = re.findall(r'([^ \\t\\n\\r\\f\\v]+ )', \"Hello world\")\n",
    "print(matches)  # 출력: ['Hello ']\n",
    "\n",
    "matches = re.findall(r'([^ \\t\\n\\r\\f\\v]+)', \"Hello world\")\n",
    "print(matches)  # 출력: ['Hello’, ‘world’]\n",
    "\n",
    "matches = re.findall(r'([^\\t\\n\\r\\f\\v]+)', \"Hello world\")\n",
    "print(matches)  # 출력: ['Hello world']\n",
    " \n",
    "#띄어쓰기가 어디서 있는지 없는지에 따라서 결과가 다름."
   ]
  },
  {
   "cell_type": "code",
   "execution_count": 287,
   "id": "d5c5909f-6c39-4abc-a881-8a6e12567338",
   "metadata": {},
   "outputs": [
    {
     "name": "stdout",
     "output_type": "stream",
     "text": [
      "[' world']\n",
      "['world']\n"
     ]
    }
   ],
   "source": [
    "matches = re.findall(r'( [^ \\t\\n\\r\\f\\v]+)', \"Hello world\")\n",
    "print(matches)  # 출력: [' world']\n",
    "\n",
    "matches = re.findall(r' ([^ \\t\\n\\r\\f\\v]+)', \"Hello world\")\n",
    "print(matches)  # 출력: ['world']\n",
    "\n",
    "#괄호를 중심으로 추출하는 것을 알 수 있다. 따라서 두 결과가 다르다. 물론 매칭은 똑같이 하지만\n",
    "#괄호 안쪽에 스페이스가 있으면 스페이스도 같이 추출하고, 밖에 있으면 스페이스를 추출하지않음"
   ]
  },
  {
   "cell_type": "code",
   "execution_count": null,
   "id": "e38ac165-4d89-4e24-8390-48224f278061",
   "metadata": {},
   "outputs": [],
   "source": []
  }
 ],
 "metadata": {
  "kernelspec": {
   "display_name": "Python 3 (ipykernel)",
   "language": "python",
   "name": "python3"
  },
  "language_info": {
   "codemirror_mode": {
    "name": "ipython",
    "version": 3
   },
   "file_extension": ".py",
   "mimetype": "text/x-python",
   "name": "python",
   "nbconvert_exporter": "python",
   "pygments_lexer": "ipython3",
   "version": "3.9.12"
  }
 },
 "nbformat": 4,
 "nbformat_minor": 5
}
